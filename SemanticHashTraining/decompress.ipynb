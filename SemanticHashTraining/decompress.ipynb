{
 "cells": [
  {
   "cell_type": "code",
   "execution_count": 1,
   "metadata": {},
   "outputs": [],
   "source": [
    "import os\n",
    "import subprocess"
   ]
  },
  {
   "cell_type": "code",
   "execution_count": 2,
   "metadata": {},
   "outputs": [
    {
     "name": "stdout",
     "output_type": "stream",
     "text": [
      "['sha256_824bd01a76a3b27f2a3f1ed93100d5adde6e508babd2434c1b286602249a8e8f.tar.gz', 'sha256_69702776c3990c81d7c279a5b3f178797d860f41f08a8d5b4191f716ea55e442.tar.gz', 'sha256_e261ef4b091e495cfbc995900ee128f666c105e8b0244fb78455f483e2355df8.tar.gz', 'sha256_e61d577fb165bfa5c64e86adabfbb86f633f0ca14d612dc100a23d289762c0fe.tar.gz', 'sha256_34a63ab31b004f167ebb0db90f846b6ba7644571af2d8da4a4fcac0b541d0e6f.tar.gz', 'sha256_03189dfc0b6a3dba5a700ce9c5becd615cb0088e2810e0481ca293998d5f0ad1.tar.gz', 'sha256_395355b59f55478e0e87936710f942e86566070c8c66e7aa5236982a598313c9.tar.gz', 'sha256_5040bd2983909aa8896b9932438c3f1479d25ae837a5f6220242a264d0221f2d.tar.gz', 'sha256_efd89b31d0e55ce772396c57a42773586493748d7c473375f68051cb2f9789a9.tar.gz', 'sha256_4bd5a634bde18dae7d3d90bb3aed31a234c242232ce8b400f49b4b920ad482ab.tar.gz', 'sha256_93857f76ae30d903bbdad13fbf7fad95ce1c0b52b7d5644651e01c6c7a906312.tar.gz', 'sha256_2726297beaf19be957416750338c095ae15b94adc0e8c1306cebbf113f8b9a5c.tar.gz', 'sha256_f0476c4370188d9ba46976f0401bf1181a73b282f9138ff70bed2bf22f8b8167.tar.gz', 'sha256_44ae682c18a31909b5b2e1c0e95d4a05cdf032e983a0e8dc36cc329fc32b53cd.tar.gz', 'sha256_d9acb0d1bdb2ee290093db1f0bec6517460134381f164184702ad664a6139bb9.tar.gz', 'sha256_f85fd20b2707b06cbee315318969e9006b59472fc6492a4cfe037dd20d77788a.tar.gz', 'sha256_3a0c7930afbd48acd109307efc156a1a50e91e7d0fb151a69f0e3efae0733e0e.tar.gz', 'sha256_7d4c3286c611e78120805dc79144b0c44962eafc7596debd8b7e5b3cc3f59c1e.tar.gz', 'sha256_58f407050ce2ac34a347bd87e37a82347d0d79eea54a68f6b9f0ad2979e2422e.tar.gz', 'sha256_6d827a3ef358f4fa21ef8251f95492e667da826653fd43641cef5a877dc03a70.tar.gz', 'sha256_15f568f0c0b039bb8070475e5bcbdab56b441b3aeccc5cd63db1be000602ff8c.tar.gz', 'sha256_3283dbb3c002c0f41f1156d0eefad1d551877737366fd42d3e7af946c54bd628.tar.gz', 'sha256_7161b720298201fa0c71379cabf85bf3dfa2ca09d25988698cdf24db32af02ef.tar.gz', 'sha256_7d27bd3d7fecb89d4028f4afa3ee866d2262c5105fc37f57aa82af918dc2f84c.tar.gz', 'sha256_cd0a524342efac6edff500c17e625735bbe479c926439b263bbe3c8518a0849c.tar.gz', 'sha256_7be4e7612dd45b7e1ab601570de7e890bf6c8565b1d9f5a918465dc20809b472.tar.gz']\n"
     ]
    }
   ],
   "source": [
    "files = os.listdir('./docker_data_5/')\n",
    "print(files)"
   ]
  },
  {
   "cell_type": "code",
   "execution_count": 4,
   "metadata": {},
   "outputs": [
    {
     "name": "stdout",
     "output_type": "stream",
     "text": [
      "281\n"
     ]
    }
   ],
   "source": [
    "def find_files(directory):\n",
    "    for root, _, files in os.walk(directory):\n",
    "        for file in files:\n",
    "            yield os.path.join(root, file)\n",
    "            \n",
    "files = list(find_files('./docker_data_0_1/'))\n",
    "print(len(files))"
   ]
  },
  {
   "cell_type": "markdown",
   "metadata": {},
   "source": [
    "# decompress all files"
   ]
  },
  {
   "cell_type": "code",
   "execution_count": 9,
   "metadata": {},
   "outputs": [
    {
     "name": "stdout",
     "output_type": "stream",
     "text": [
      "281\r"
     ]
    }
   ],
   "source": [
    "cnt = 0\n",
    "for file in files:\n",
    "    path = file[-78:-7]\n",
    "    # subprocess.getoutput('mkdir ./docker_data_0_1/' + path)\n",
    "    status, output = subprocess.getstatusoutput('gzip -cd ' + file + ' > ./docker_data_0_1_uncompress/' + path + '_' + str(cnt)+ '.tar')\n",
    "    assert(status==0)\n",
    "    cnt += 1\n",
    "    print(cnt, end='\\r')"
   ]
  },
  {
   "cell_type": "markdown",
   "metadata": {},
   "source": [
    "# concat all decompressed files into one file"
   ]
  },
  {
   "cell_type": "code",
   "execution_count": 2,
   "metadata": {},
   "outputs": [],
   "source": [
    "def find_files(directory):\n",
    "    for root, _, files in os.walk(directory):\n",
    "        for file in files:\n",
    "            yield os.path.join(root, file)\n",
    "            \n",
    "def concat_files(files, output_file):\n",
    "    with open(output_file, 'wb') as outfile:\n",
    "        for file in files:\n",
    "            with open(file, 'rb') as infile:\n",
    "                outfile.write(infile.read())\n",
    "                \n",
    "directory_to_search = './docker_data_0_1_uncompress/'\n",
    "\n",
    "output_file_path = './docker_data_0_1_concat.bin'\n",
    "\n",
    "all_files = list(find_files(directory_to_search))\n",
    "concat_files(all_files, output_file_path)"
   ]
  }
 ],
 "metadata": {
  "kernelspec": {
   "display_name": "base",
   "language": "python",
   "name": "python3"
  },
  "language_info": {
   "codemirror_mode": {
    "name": "ipython",
    "version": 3
   },
   "file_extension": ".py",
   "mimetype": "text/x-python",
   "name": "python",
   "nbconvert_exporter": "python",
   "pygments_lexer": "ipython3",
   "version": "3.8.8"
  }
 },
 "nbformat": 4,
 "nbformat_minor": 2
}
